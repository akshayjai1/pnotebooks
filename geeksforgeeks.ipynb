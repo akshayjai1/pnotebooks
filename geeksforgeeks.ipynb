{
 "cells": [
  {
   "cell_type": "markdown",
   "metadata": {},
   "source": [
    "Given an array containing both negative and positive integers. Find the contiguous sub-array with maximum sum.\n",
    " \n",
    "Input:\n",
    "The first line of input contains an integer T denoting the number of test cases. The description of T test cases follows. The first line of each test case contains a single integer N denoting the size of array. The second line contains N space-separated integers A1, A2, ..., AN denoting the elements of the array.\n",
    " \n",
    "Output:\n",
    "    Print the maximum sum of the contiguous sub-array in a separate line for each test case\n",
    " \n",
    "Example:\n",
    "Input\n",
    "2<br/>\n",
    "3<br/>\n",
    "1 2 3<br/>\n",
    "4<br/>\n",
    "-1 -2 -3 -4<br/>\n",
    "Output<br/>\n",
    "6<br/>\n",
    "-1<br/>\n"
   ]
  },
  {
   "cell_type": "code",
   "execution_count": 4,
   "metadata": {},
   "outputs": [
    {
     "name": "stdout",
     "output_type": "stream",
     "text": [
      "1\n",
      "('reducing t', 0)\n",
      "3\n",
      "\"1 2 0\"\n",
      "[1, 2, 0]\n",
      "3\n",
      "end\n"
     ]
    }
   ],
   "source": [
    "t=int(input())\n",
    "while t:\n",
    "    t -=1;\n",
    "    print(\"reducing t\",t);\n",
    "    x=input();\n",
    "    y=[int(i) for i in input().split()];\n",
    "    finalSum=y[0];\n",
    "    finalHighSeq=list([y[0]]);\n",
    "    for j in range(x):\n",
    "        currSeq=list([y[j]]); \n",
    "        highSeq=list([y[j]]);\n",
    "        currSeqSum=y[j];\n",
    "        highSum = currSeqSum;\n",
    "        for i in range(j+1,x):\n",
    "            if y[i] >= 0:\n",
    "                currSeq.extend([y[i]]);\n",
    "                currSeqSum += y[i];\n",
    "                highSum = max(highSum,currSeqSum);\n",
    "                if highSum == currSeqSum:\n",
    "                    highSeq = list(currSeq); \n",
    "            elif abs(y[i]) > currSeqSum:\n",
    "                break;\n",
    "            else:\n",
    "                currSeqSum += y[i];\n",
    "                currSeq.extend([y[i]])\n",
    "        if highSum >= finalSum:\n",
    "            finalSum = highSum;\n",
    "            finalHighSeq = list(highSeq);   \n",
    "    print(finalHighSeq);\n",
    "    print(finalSum);\n",
    "print('end');"
   ]
  },
  {
   "cell_type": "code",
   "execution_count": null,
   "metadata": {},
   "outputs": [],
   "source": []
  }
 ],
 "metadata": {
  "kernelspec": {
   "display_name": "Python 2",
   "language": "python",
   "name": "python2"
  },
  "language_info": {
   "codemirror_mode": {
    "name": "ipython",
    "version": 2
   },
   "file_extension": ".py",
   "mimetype": "text/x-python",
   "name": "python",
   "nbconvert_exporter": "python",
   "pygments_lexer": "ipython2",
   "version": "2.7.14"
  }
 },
 "nbformat": 4,
 "nbformat_minor": 2
}
